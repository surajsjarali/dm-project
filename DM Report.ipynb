{
 "cells": [
  {
   "cell_type": "markdown",
   "metadata": {},
   "source": [
    "<center> <h1> Finding the correlation between air pollutants <br>\n",
    " using Data Mining Techiniques <br> <h1> submitted by <br><br> Hrishikesh Salpekar ― 1MS16CS040 <br> Rahul R ― 1MS16CS072 <br> Suraj S Jarali ― 1MS16CS106  <br><br> supervised by: <br><br> Sowmya B J </h1> </center>\n"
   ]
  },
  {
   "cell_type": "markdown",
   "metadata": {},
   "source": [
    "Data Source : https://data.gov.in/catalog/historical-daily-ambient-air-quality-data\n",
    "## Data Exploration"
   ]
  },
  {
   "cell_type": "code",
   "execution_count": 20,
   "metadata": {},
   "outputs": [],
   "source": [
    "#importing libraries for Data Exploration\n",
    "\n",
    "import pandas as pd\n",
    "import matplotlib.pyplot as plt\n",
    "from matplotlib import style\n",
    "import numpy as np\n",
    "style.use ('ggplot')"
   ]
  },
  {
   "cell_type": "code",
   "execution_count": 21,
   "metadata": {},
   "outputs": [
    {
     "data": {
      "text/html": [
       "<div>\n",
       "<style scoped>\n",
       "    .dataframe tbody tr th:only-of-type {\n",
       "        vertical-align: middle;\n",
       "    }\n",
       "\n",
       "    .dataframe tbody tr th {\n",
       "        vertical-align: top;\n",
       "    }\n",
       "\n",
       "    .dataframe thead th {\n",
       "        text-align: right;\n",
       "    }\n",
       "</style>\n",
       "<table border=\"1\" class=\"dataframe\">\n",
       "  <thead>\n",
       "    <tr style=\"text-align: right;\">\n",
       "      <th></th>\n",
       "      <th>Stn.Code</th>\n",
       "      <th>Sampling.Date</th>\n",
       "      <th>State</th>\n",
       "      <th>City.Town.Village.Area</th>\n",
       "      <th>loctype</th>\n",
       "      <th>SO2</th>\n",
       "      <th>NO2</th>\n",
       "      <th>RSPM.PM10</th>\n",
       "      <th>SPM</th>\n",
       "      <th>Location.of.Monitoring.Station</th>\n",
       "      <th>PM.2.5</th>\n",
       "    </tr>\n",
       "  </thead>\n",
       "  <tbody>\n",
       "    <tr>\n",
       "      <th>0</th>\n",
       "      <td>150.0</td>\n",
       "      <td>1990-02-01</td>\n",
       "      <td>Telangana</td>\n",
       "      <td>Hyderabad</td>\n",
       "      <td>Residential, Rural and other Areas</td>\n",
       "      <td>4.8</td>\n",
       "      <td>17.4</td>\n",
       "      <td>NaN</td>\n",
       "      <td>NaN</td>\n",
       "      <td>Tarnaka, NEERI Lab. IICT Campus, Hyderabad</td>\n",
       "      <td>NaN</td>\n",
       "    </tr>\n",
       "    <tr>\n",
       "      <th>1</th>\n",
       "      <td>151.0</td>\n",
       "      <td>1990-02-01</td>\n",
       "      <td>Telangana</td>\n",
       "      <td>Hyderabad</td>\n",
       "      <td>Industrial Area</td>\n",
       "      <td>3.1</td>\n",
       "      <td>7.0</td>\n",
       "      <td>NaN</td>\n",
       "      <td>NaN</td>\n",
       "      <td>Nacharam</td>\n",
       "      <td>NaN</td>\n",
       "    </tr>\n",
       "    <tr>\n",
       "      <th>2</th>\n",
       "      <td>152.0</td>\n",
       "      <td>1990-02-01</td>\n",
       "      <td>Telangana</td>\n",
       "      <td>Hyderabad</td>\n",
       "      <td>Residential, Rural and other Areas</td>\n",
       "      <td>6.2</td>\n",
       "      <td>28.5</td>\n",
       "      <td>NaN</td>\n",
       "      <td>NaN</td>\n",
       "      <td>ABIDS Circle General Post Office Building, Hyd...</td>\n",
       "      <td>NaN</td>\n",
       "    </tr>\n",
       "    <tr>\n",
       "      <th>3</th>\n",
       "      <td>150.0</td>\n",
       "      <td>1990-03-01</td>\n",
       "      <td>Telangana</td>\n",
       "      <td>Hyderabad</td>\n",
       "      <td>Residential, Rural and other Areas</td>\n",
       "      <td>6.3</td>\n",
       "      <td>14.7</td>\n",
       "      <td>NaN</td>\n",
       "      <td>NaN</td>\n",
       "      <td>Tarnaka, NEERI Lab. IICT Campus, Hyderabad</td>\n",
       "      <td>NaN</td>\n",
       "    </tr>\n",
       "    <tr>\n",
       "      <th>4</th>\n",
       "      <td>151.0</td>\n",
       "      <td>1990-03-01</td>\n",
       "      <td>Telangana</td>\n",
       "      <td>Hyderabad</td>\n",
       "      <td>Industrial Area</td>\n",
       "      <td>4.7</td>\n",
       "      <td>7.5</td>\n",
       "      <td>NaN</td>\n",
       "      <td>NaN</td>\n",
       "      <td>Nacharam</td>\n",
       "      <td>NaN</td>\n",
       "    </tr>\n",
       "  </tbody>\n",
       "</table>\n",
       "</div>"
      ],
      "text/plain": [
       "   Stn.Code Sampling.Date      State City.Town.Village.Area  \\\n",
       "0     150.0    1990-02-01  Telangana              Hyderabad   \n",
       "1     151.0    1990-02-01  Telangana              Hyderabad   \n",
       "2     152.0    1990-02-01  Telangana              Hyderabad   \n",
       "3     150.0    1990-03-01  Telangana              Hyderabad   \n",
       "4     151.0    1990-03-01  Telangana              Hyderabad   \n",
       "\n",
       "                              loctype  SO2   NO2  RSPM.PM10  SPM  \\\n",
       "0  Residential, Rural and other Areas  4.8  17.4        NaN  NaN   \n",
       "1                     Industrial Area  3.1   7.0        NaN  NaN   \n",
       "2  Residential, Rural and other Areas  6.2  28.5        NaN  NaN   \n",
       "3  Residential, Rural and other Areas  6.3  14.7        NaN  NaN   \n",
       "4                     Industrial Area  4.7   7.5        NaN  NaN   \n",
       "\n",
       "                      Location.of.Monitoring.Station  PM.2.5  \n",
       "0         Tarnaka, NEERI Lab. IICT Campus, Hyderabad     NaN  \n",
       "1                                           Nacharam     NaN  \n",
       "2  ABIDS Circle General Post Office Building, Hyd...     NaN  \n",
       "3         Tarnaka, NEERI Lab. IICT Campus, Hyderabad     NaN  \n",
       "4                                           Nacharam     NaN  "
      ]
     },
     "execution_count": 21,
     "metadata": {},
     "output_type": "execute_result"
    }
   ],
   "source": [
    "df=pd.read_csv('ddata.csv')\n",
    "df.head()"
   ]
  },
  {
   "cell_type": "code",
   "execution_count": 22,
   "metadata": {
    "scrolled": false
   },
   "outputs": [
    {
     "data": {
      "text/html": [
       "<div>\n",
       "<style scoped>\n",
       "    .dataframe tbody tr th:only-of-type {\n",
       "        vertical-align: middle;\n",
       "    }\n",
       "\n",
       "    .dataframe tbody tr th {\n",
       "        vertical-align: top;\n",
       "    }\n",
       "\n",
       "    .dataframe thead th {\n",
       "        text-align: right;\n",
       "    }\n",
       "</style>\n",
       "<table border=\"1\" class=\"dataframe\">\n",
       "  <thead>\n",
       "    <tr style=\"text-align: right;\">\n",
       "      <th></th>\n",
       "      <th>Stn.Code</th>\n",
       "      <th>SO2</th>\n",
       "      <th>NO2</th>\n",
       "      <th>RSPM.PM10</th>\n",
       "      <th>SPM</th>\n",
       "      <th>PM.2.5</th>\n",
       "    </tr>\n",
       "  </thead>\n",
       "  <tbody>\n",
       "    <tr>\n",
       "      <th>count</th>\n",
       "      <td>95146.000000</td>\n",
       "      <td>91175.000000</td>\n",
       "      <td>93732.000000</td>\n",
       "      <td>92317.000000</td>\n",
       "      <td>48927.000000</td>\n",
       "      <td>1756.000000</td>\n",
       "    </tr>\n",
       "    <tr>\n",
       "      <th>mean</th>\n",
       "      <td>295.195352</td>\n",
       "      <td>10.322864</td>\n",
       "      <td>30.796267</td>\n",
       "      <td>108.308604</td>\n",
       "      <td>232.205665</td>\n",
       "      <td>48.247722</td>\n",
       "    </tr>\n",
       "    <tr>\n",
       "      <th>std</th>\n",
       "      <td>190.189699</td>\n",
       "      <td>9.781473</td>\n",
       "      <td>21.614489</td>\n",
       "      <td>81.454458</td>\n",
       "      <td>153.108841</td>\n",
       "      <td>38.433731</td>\n",
       "    </tr>\n",
       "    <tr>\n",
       "      <th>min</th>\n",
       "      <td>1.000000</td>\n",
       "      <td>0.500000</td>\n",
       "      <td>0.300000</td>\n",
       "      <td>3.000000</td>\n",
       "      <td>0.000000</td>\n",
       "      <td>4.000000</td>\n",
       "    </tr>\n",
       "    <tr>\n",
       "      <th>25%</th>\n",
       "      <td>146.000000</td>\n",
       "      <td>5.000000</td>\n",
       "      <td>18.000000</td>\n",
       "      <td>54.000000</td>\n",
       "      <td>123.000000</td>\n",
       "      <td>27.000000</td>\n",
       "    </tr>\n",
       "    <tr>\n",
       "      <th>50%</th>\n",
       "      <td>324.000000</td>\n",
       "      <td>8.000000</td>\n",
       "      <td>26.600000</td>\n",
       "      <td>85.000000</td>\n",
       "      <td>193.000000</td>\n",
       "      <td>32.000000</td>\n",
       "    </tr>\n",
       "    <tr>\n",
       "      <th>75%</th>\n",
       "      <td>416.000000</td>\n",
       "      <td>13.000000</td>\n",
       "      <td>36.000000</td>\n",
       "      <td>141.000000</td>\n",
       "      <td>311.000000</td>\n",
       "      <td>55.000000</td>\n",
       "    </tr>\n",
       "    <tr>\n",
       "      <th>max</th>\n",
       "      <td>814.000000</td>\n",
       "      <td>909.000000</td>\n",
       "      <td>640.000000</td>\n",
       "      <td>6307.033333</td>\n",
       "      <td>1885.000000</td>\n",
       "      <td>318.000000</td>\n",
       "    </tr>\n",
       "  </tbody>\n",
       "</table>\n",
       "</div>"
      ],
      "text/plain": [
       "           Stn.Code           SO2           NO2     RSPM.PM10           SPM  \\\n",
       "count  95146.000000  91175.000000  93732.000000  92317.000000  48927.000000   \n",
       "mean     295.195352     10.322864     30.796267    108.308604    232.205665   \n",
       "std      190.189699      9.781473     21.614489     81.454458    153.108841   \n",
       "min        1.000000      0.500000      0.300000      3.000000      0.000000   \n",
       "25%      146.000000      5.000000     18.000000     54.000000    123.000000   \n",
       "50%      324.000000      8.000000     26.600000     85.000000    193.000000   \n",
       "75%      416.000000     13.000000     36.000000    141.000000    311.000000   \n",
       "max      814.000000    909.000000    640.000000   6307.033333   1885.000000   \n",
       "\n",
       "            PM.2.5  \n",
       "count  1756.000000  \n",
       "mean     48.247722  \n",
       "std      38.433731  \n",
       "min       4.000000  \n",
       "25%      27.000000  \n",
       "50%      32.000000  \n",
       "75%      55.000000  \n",
       "max     318.000000  "
      ]
     },
     "execution_count": 22,
     "metadata": {},
     "output_type": "execute_result"
    }
   ],
   "source": [
    "df.describe()"
   ]
  },
  {
   "cell_type": "code",
   "execution_count": 23,
   "metadata": {},
   "outputs": [],
   "source": [
    "df.drop(['Stn.Code'], axis=1, inplace=True)\n",
    "df[\"Sampling.Date\"]=pd.to_datetime(df[\"Sampling.Date\"])\n",
    "\n",
    "df.rename(columns={'City.Town.Village.Area':'City'},inplace=True)"
   ]
  },
  {
   "cell_type": "code",
   "execution_count": 24,
   "metadata": {},
   "outputs": [
    {
     "data": {
      "text/plain": [
       "Sampling.Date                         0\n",
       "State                                 0\n",
       "City                                  0\n",
       "loctype                               0\n",
       "SO2                                4896\n",
       "NO2                                2339\n",
       "RSPM.PM10                          3754\n",
       "SPM                               47144\n",
       "Location.of.Monitoring.Station      608\n",
       "PM.2.5                            94315\n",
       "dtype: int64"
      ]
     },
     "execution_count": 24,
     "metadata": {},
     "output_type": "execute_result"
    }
   ],
   "source": [
    "df.isna().sum()\n",
    "\n",
    "# Shows the number of missing values in each attribute"
   ]
  },
  {
   "cell_type": "code",
   "execution_count": 25,
   "metadata": {},
   "outputs": [],
   "source": [
    "import seaborn as sns"
   ]
  },
  {
   "cell_type": "code",
   "execution_count": 26,
   "metadata": {},
   "outputs": [
    {
     "name": "stdout",
     "output_type": "stream",
     "text": [
      "date         0.000000\n",
      "State        0.000000\n",
      "City         0.000000\n",
      "loctype      0.000000\n",
      "SO2          5.096231\n",
      "NO2          2.434658\n",
      "RSPM10       3.907527\n",
      "SPM         49.072040\n",
      "location     0.632865\n",
      "PM.2.5      98.172185\n",
      "dtype: float64\n"
     ]
    }
   ],
   "source": [
    "df.rename(columns={'Sampling.Date':'date'}, inplace=True)\n",
    "df.rename(columns={'City.Town.Village.Area':'City'}, inplace=True)\n",
    "df.rename(columns={'Location.of.Monitoring.Station':'location'}, inplace=True)\n",
    "df.rename(columns={'RSPM.PM10' :'RSPM10'}, inplace=True)\n",
    "\n",
    "\n",
    "# Percentage of missing values in each column\n",
    "print( df.isnull().sum(axis = 0) * 100 / df.shape[0] )"
   ]
  },
  {
   "cell_type": "code",
   "execution_count": 27,
   "metadata": {},
   "outputs": [
    {
     "data": {
      "text/plain": [
       "Text(0.5,1,'Missing values')"
      ]
     },
     "execution_count": 27,
     "metadata": {},
     "output_type": "execute_result"
    },
    {
     "data": {
      "image/png": "[encoded data removed]",
      "text/plain": [
       "<Figure size 432x288 with 1 Axes>"
      ]
     },
     "metadata": {},
     "output_type": "display_data"
    }
   ],
   "source": [
    "sns.heatmap(df.isnull(), yticklabels=False, cbar=False).set_title('Missing values')"
   ]
  },
  {
   "cell_type": "code",
   "execution_count": 28,
   "metadata": {},
   "outputs": [
    {
     "data": {
      "text/plain": [
       "Text(0.5,1,'Dropping attributes with many missing values')"
      ]
     },
     "execution_count": 28,
     "metadata": {},
     "output_type": "execute_result"
    },
    {
     "data": {
      "image/png": "[encoded data removed]",
      "text/plain": [
       "<Figure size 432x288 with 1 Axes>"
      ]
     },
     "metadata": {},
     "output_type": "display_data"
    }
   ],
   "source": [
    "df.drop(['PM.2.5','SPM', 'loctype', 'location'], axis=1, inplace=True)\n",
    "\n",
    "sns.heatmap(df.isnull(), yticklabels=False, cbar=False).set_title('Dropping attributes with many missing values')"
   ]
  },
  {
   "cell_type": "markdown",
   "metadata": {},
   "source": []
  },
  {
   "cell_type": "markdown",
   "metadata": {},
   "source": [
    "# Removing Duplicates and Splitting Data on Cities"
   ]
  },
  {
   "cell_type": "code",
   "execution_count": 29,
   "metadata": {},
   "outputs": [],
   "source": [
    "df.drop_duplicates(inplace=True)\n",
    "\n",
    "dfs = dict(tuple(df.groupby('City')))\n",
    "\n",
    "for l, DF in dfs.items():\n",
    "    dfs[l]['SO2']    = dfs[l].groupby(['date'])['SO2'].transform('mean')\n",
    "    dfs[l]['NO2']    = dfs[l].groupby(['date'])['NO2'].transform('mean')\n",
    "    dfs[l]['RSPM10'] = dfs[l].groupby(['date'])['RSPM10'].transform('mean')\n",
    "    dfs[l].drop_duplicates(subset=['date'], keep=False)\n",
    "\n",
    "df = pd.concat(dfs.values(), ignore_index=True)\n"
   ]
  },
  {
   "cell_type": "markdown",
   "metadata": {},
   "source": [
    "# Outlier Analysis\n",
    "\n",
    "Removing outliers using Tukey's fences:\n",
    "$$\\text{IQR} = Q_3 - Q_1$$\n",
    "Taking data points only within range\n",
    "$$\\left[Q_1 - 1.5 \\text{IQR}, Q_3 + 1.5 \\text{IQR}\\right]$$\n",
    "$$ \\text{where} Q_1 \\text{and} Q_3 \\text{are first and third quartile}$$"
   ]
  },
  {
   "cell_type": "code",
   "execution_count": 30,
   "metadata": {},
   "outputs": [
    {
     "data": {
      "image/png": "[encoded data removed]",
      "text/plain": [
       "<Figure size 432x288 with 3 Axes>"
      ]
     },
     "metadata": {},
     "output_type": "display_data"
    }
   ],
   "source": [
    "locations = ['Agra', 'Ahmedabad', 'Bangalore', 'Chennai', 'Delhi', 'Hyderabad', 'Kolkata', 'Mumbai',\n",
    "             'Vishakhapatnam' ]\n",
    "\n",
    "fig1, axes = plt.subplots(3, 1)\n",
    "for i, y in enumerate(['SO2', 'NO2', 'RSPM10']):\n",
    "    sns.boxplot(x = 'City', y = y,   data = df, order = locations, ax = axes[i])\n",
    "for i in range(2):\n",
    "    axes[i].set_xticklabels('')\n",
    "axes[2].set_xticklabels(locations, rotation = 45)\n",
    "axes[0].set_title('With Outliers')\n",
    "fig1\n",
    "\n",
    "import math\n",
    "df = pd.DataFrame() \n",
    "for l, df_i in dfs.items():\n",
    "    q = ''\n",
    "    for attr in ['SO2', 'NO2','RSPM10']:\n",
    "        Q1 = df_i[attr].quantile(0.25)\n",
    "        Q3 = df_i[attr].quantile(0.75)\n",
    "        IQR = Q3 - Q1\n",
    "        if  not (math.isnan(Q1) and math.isnan(Q3)):\n",
    "            q += f'({Q1} - 1.5 * {IQR}) <= {attr} <= ({Q3} + 1.5 * {IQR}) and '\n",
    "    dfs[l] = df_i.query(q[:-5])"
   ]
  },
  {
   "cell_type": "code",
   "execution_count": 31,
   "metadata": {},
   "outputs": [
    {
     "data": {
      "text/plain": [
       "Text(0.5,1,'Without Outliers')"
      ]
     },
     "execution_count": 31,
     "metadata": {},
     "output_type": "execute_result"
    },
    {
     "data": {
      "image/png": "[encoded data removed]",
      "text/plain": [
       "<Figure size 432x288 with 3 Axes>"
      ]
     },
     "metadata": {},
     "output_type": "display_data"
    }
   ],
   "source": [
    "df = pd.concat(dfs.values(), ignore_index=True)\n",
    "\n",
    "fig2, axes = plt.subplots(3, 1)\n",
    "\n",
    "for i, y in enumerate(['SO2', 'NO2', 'RSPM10']):\n",
    "    sns.boxplot(x = 'City', y = y,   data = df, order = locations, ax = axes[i])\n",
    "for i in range(2):\n",
    "    axes[i].set_xticklabels('')\n",
    "axes[2].set_xticklabels(locations, rotation = 30)\n",
    "axes[0].set_title('Without Outliers')\n"
   ]
  },
  {
   "cell_type": "markdown",
   "metadata": {},
   "source": [
    "# Treating Missing Values"
   ]
  },
  {
   "cell_type": "code",
   "execution_count": 32,
   "metadata": {},
   "outputs": [],
   "source": [
    "import warnings\n",
    "warnings.filterwarnings(\"ignore\")\n",
    "for df_i in dfs.values():\n",
    "    df_i.fillna(method = 'pad', inplace=True)"
   ]
  },
  {
   "cell_type": "code",
   "execution_count": 33,
   "metadata": {},
   "outputs": [
    {
     "name": "stdout",
     "output_type": "stream",
     "text": [
      "date      0\n",
      "State     0\n",
      "City      0\n",
      "SO2       0\n",
      "NO2       0\n",
      "RSPM10    0\n",
      "dtype: int64\n"
     ]
    }
   ],
   "source": [
    "''' Replacing remaining missing values with median '''\n",
    "\n",
    "for df_i in dfs.values():\n",
    "    so2 = df_i.SO2.quantile(0.5)\n",
    "    no2 = df_i.NO2.quantile(0.5)\n",
    "    rspm = df_i.RSPM10.quantile(0.5)\n",
    "    df_i.SO2.fillna(so2, inplace=True)\n",
    "    df_i.NO2.fillna(no2, inplace=True)\n",
    "    df_i.RSPM10.fillna(rspm, inplace=True)\n",
    "\n",
    "df = pd.concat(dfs.values(), ignore_index=True)\n",
    "\n",
    "print(df.isnull().sum(axis = 0))\n",
    "\n",
    "# Saving treated dataset as new csv file\n",
    "df.to_csv(\"final.csv\")"
   ]
  },
  {
   "cell_type": "markdown",
   "metadata": {},
   "source": [
    "# Scaling Features"
   ]
  },
  {
   "cell_type": "code",
   "execution_count": 34,
   "metadata": {},
   "outputs": [
    {
     "data": {
      "text/html": [
       "<div>\n",
       "<style scoped>\n",
       "    .dataframe tbody tr th:only-of-type {\n",
       "        vertical-align: middle;\n",
       "    }\n",
       "\n",
       "    .dataframe tbody tr th {\n",
       "        vertical-align: top;\n",
       "    }\n",
       "\n",
       "    .dataframe thead th {\n",
       "        text-align: right;\n",
       "    }\n",
       "</style>\n",
       "<table border=\"1\" class=\"dataframe\">\n",
       "  <thead>\n",
       "    <tr style=\"text-align: right;\">\n",
       "      <th></th>\n",
       "      <th>date</th>\n",
       "      <th>State</th>\n",
       "      <th>City</th>\n",
       "      <th>SO2</th>\n",
       "      <th>NO2</th>\n",
       "      <th>RSPM10</th>\n",
       "    </tr>\n",
       "  </thead>\n",
       "  <tbody>\n",
       "    <tr>\n",
       "      <th>0</th>\n",
       "      <td>2004-09-13</td>\n",
       "      <td>Uttar Pradesh</td>\n",
       "      <td>Agra</td>\n",
       "      <td>7.0</td>\n",
       "      <td>7.5</td>\n",
       "      <td>67.0</td>\n",
       "    </tr>\n",
       "    <tr>\n",
       "      <th>1</th>\n",
       "      <td>2004-09-16</td>\n",
       "      <td>Uttar Pradesh</td>\n",
       "      <td>Agra</td>\n",
       "      <td>7.7</td>\n",
       "      <td>8.4</td>\n",
       "      <td>62.0</td>\n",
       "    </tr>\n",
       "    <tr>\n",
       "      <th>2</th>\n",
       "      <td>2004-09-20</td>\n",
       "      <td>Uttar Pradesh</td>\n",
       "      <td>Agra</td>\n",
       "      <td>7.3</td>\n",
       "      <td>7.8</td>\n",
       "      <td>156.0</td>\n",
       "    </tr>\n",
       "    <tr>\n",
       "      <th>3</th>\n",
       "      <td>2004-09-23</td>\n",
       "      <td>Uttar Pradesh</td>\n",
       "      <td>Agra</td>\n",
       "      <td>7.5</td>\n",
       "      <td>7.1</td>\n",
       "      <td>181.0</td>\n",
       "    </tr>\n",
       "    <tr>\n",
       "      <th>4</th>\n",
       "      <td>2004-09-27</td>\n",
       "      <td>Uttar Pradesh</td>\n",
       "      <td>Agra</td>\n",
       "      <td>8.2</td>\n",
       "      <td>8.9</td>\n",
       "      <td>303.0</td>\n",
       "    </tr>\n",
       "  </tbody>\n",
       "</table>\n",
       "</div>"
      ],
      "text/plain": [
       "        date          State  City  SO2  NO2  RSPM10\n",
       "0 2004-09-13  Uttar Pradesh  Agra  7.0  7.5    67.0\n",
       "1 2004-09-16  Uttar Pradesh  Agra  7.7  8.4    62.0\n",
       "2 2004-09-20  Uttar Pradesh  Agra  7.3  7.8   156.0\n",
       "3 2004-09-23  Uttar Pradesh  Agra  7.5  7.1   181.0\n",
       "4 2004-09-27  Uttar Pradesh  Agra  8.2  8.9   303.0"
      ]
     },
     "execution_count": 34,
     "metadata": {},
     "output_type": "execute_result"
    }
   ],
   "source": [
    "df.head() # Before scaling"
   ]
  },
  {
   "cell_type": "code",
   "execution_count": 35,
   "metadata": {},
   "outputs": [
    {
     "data": {
      "text/html": [
       "<div>\n",
       "<style scoped>\n",
       "    .dataframe tbody tr th:only-of-type {\n",
       "        vertical-align: middle;\n",
       "    }\n",
       "\n",
       "    .dataframe tbody tr th {\n",
       "        vertical-align: top;\n",
       "    }\n",
       "\n",
       "    .dataframe thead th {\n",
       "        text-align: right;\n",
       "    }\n",
       "</style>\n",
       "<table border=\"1\" class=\"dataframe\">\n",
       "  <thead>\n",
       "    <tr style=\"text-align: right;\">\n",
       "      <th></th>\n",
       "      <th>date</th>\n",
       "      <th>State</th>\n",
       "      <th>City</th>\n",
       "      <th>SO2</th>\n",
       "      <th>NO2</th>\n",
       "      <th>RSPM10</th>\n",
       "      <th>Scale_SO2</th>\n",
       "      <th>Scale_NO2</th>\n",
       "      <th>Scale_RSPM10</th>\n",
       "    </tr>\n",
       "  </thead>\n",
       "  <tbody>\n",
       "    <tr>\n",
       "      <th>0</th>\n",
       "      <td>2004-09-13</td>\n",
       "      <td>Uttar Pradesh</td>\n",
       "      <td>Agra</td>\n",
       "      <td>7.0</td>\n",
       "      <td>7.5</td>\n",
       "      <td>67.0</td>\n",
       "      <td>0.157303</td>\n",
       "      <td>0.060926</td>\n",
       "      <td>0.148641</td>\n",
       "    </tr>\n",
       "    <tr>\n",
       "      <th>1</th>\n",
       "      <td>2004-09-16</td>\n",
       "      <td>Uttar Pradesh</td>\n",
       "      <td>Agra</td>\n",
       "      <td>7.7</td>\n",
       "      <td>8.4</td>\n",
       "      <td>62.0</td>\n",
       "      <td>0.173034</td>\n",
       "      <td>0.068237</td>\n",
       "      <td>0.137549</td>\n",
       "    </tr>\n",
       "    <tr>\n",
       "      <th>2</th>\n",
       "      <td>2004-09-20</td>\n",
       "      <td>Uttar Pradesh</td>\n",
       "      <td>Agra</td>\n",
       "      <td>7.3</td>\n",
       "      <td>7.8</td>\n",
       "      <td>156.0</td>\n",
       "      <td>0.164045</td>\n",
       "      <td>0.063363</td>\n",
       "      <td>0.346090</td>\n",
       "    </tr>\n",
       "    <tr>\n",
       "      <th>3</th>\n",
       "      <td>2004-09-23</td>\n",
       "      <td>Uttar Pradesh</td>\n",
       "      <td>Agra</td>\n",
       "      <td>7.5</td>\n",
       "      <td>7.1</td>\n",
       "      <td>181.0</td>\n",
       "      <td>0.168539</td>\n",
       "      <td>0.057677</td>\n",
       "      <td>0.401553</td>\n",
       "    </tr>\n",
       "    <tr>\n",
       "      <th>4</th>\n",
       "      <td>2004-09-27</td>\n",
       "      <td>Uttar Pradesh</td>\n",
       "      <td>Agra</td>\n",
       "      <td>8.2</td>\n",
       "      <td>8.9</td>\n",
       "      <td>303.0</td>\n",
       "      <td>0.184270</td>\n",
       "      <td>0.072299</td>\n",
       "      <td>0.672213</td>\n",
       "    </tr>\n",
       "  </tbody>\n",
       "</table>\n",
       "</div>"
      ],
      "text/plain": [
       "        date          State  City  SO2  NO2  RSPM10  Scale_SO2  Scale_NO2  \\\n",
       "0 2004-09-13  Uttar Pradesh  Agra  7.0  7.5    67.0   0.157303   0.060926   \n",
       "1 2004-09-16  Uttar Pradesh  Agra  7.7  8.4    62.0   0.173034   0.068237   \n",
       "2 2004-09-20  Uttar Pradesh  Agra  7.3  7.8   156.0   0.164045   0.063363   \n",
       "3 2004-09-23  Uttar Pradesh  Agra  7.5  7.1   181.0   0.168539   0.057677   \n",
       "4 2004-09-27  Uttar Pradesh  Agra  8.2  8.9   303.0   0.184270   0.072299   \n",
       "\n",
       "   Scale_RSPM10  \n",
       "0      0.148641  \n",
       "1      0.137549  \n",
       "2      0.346090  \n",
       "3      0.401553  \n",
       "4      0.672213  "
      ]
     },
     "execution_count": 35,
     "metadata": {},
     "output_type": "execute_result"
    }
   ],
   "source": [
    "df[\"Scale_SO2\"]    = (df[\"SO2\"]/max(df.SO2))\n",
    "df[\"Scale_NO2\"]    = (df[\"NO2\"]/max(df.NO2))\n",
    "df[\"Scale_RSPM10\"] = (df[\"RSPM10\"]/max(df.RSPM10))\n",
    "\n",
    "df.head()"
   ]
  },
  {
   "cell_type": "markdown",
   "metadata": {},
   "source": [
    "# Algorithm"
   ]
  },
  {
   "cell_type": "code",
   "execution_count": 36,
   "metadata": {},
   "outputs": [],
   "source": [
    "import statsmodels.api as sm\n",
    "from sklearn.model_selection import train_test_split, cross_val_score"
   ]
  },
  {
   "cell_type": "code",
   "execution_count": 38,
   "metadata": {},
   "outputs": [],
   "source": [
    "# Applying the Linear Regression Algorithm for Bangalore\n",
    "\n",
    "df = pd.read_csv('final.csv')\n",
    "d = df.loc[df.City == 'Bangalore']\n",
    "\n",
    "from itertools import combinations\n",
    "\n",
    "s = set(['SO2', 'NO2', 'RSPM10'])\n",
    "model = []\n",
    "\n",
    "for (x1, x2) in combinations(s, 2):\n",
    "    yi = set.difference(s, set([x1, x2])).pop()\n",
    "    X = df[[x1, x2]]\n",
    "    y = df[yi]\n",
    "    model.append(([x1, x2], yi, sm.OLS(y, X).fit()))"
   ]
  },
  {
   "cell_type": "code",
   "execution_count": 39,
   "metadata": {},
   "outputs": [
    {
     "name": "stdout",
     "output_type": "stream",
     "text": [
      "['NO2', 'RSPM10'] SO2\n",
      "                            OLS Regression Results                            \n",
      "==============================================================================\n",
      "Dep. Variable:                    SO2   R-squared:                       0.628\n",
      "Model:                            OLS   Adj. R-squared:                  0.628\n",
      "Method:                 Least Squares   F-statistic:                 6.849e+04\n",
      "Date:                Mon, 17 Dec 2018   Prob (F-statistic):               0.00\n",
      "Time:                        10:53:00   Log-Likelihood:            -2.6949e+05\n",
      "No. Observations:               81209   AIC:                         5.390e+05\n",
      "Df Residuals:                   81207   BIC:                         5.390e+05\n",
      "Df Model:                           2                                         \n",
      "Covariance Type:            nonrobust                                         \n",
      "==============================================================================\n",
      "                 coef    std err          t      P>|t|      [0.025      0.975]\n",
      "------------------------------------------------------------------------------\n",
      "NO2            0.2033      0.001    152.684      0.000       0.201       0.206\n",
      "RSPM10         0.0157      0.000     42.396      0.000       0.015       0.016\n",
      "==============================================================================\n",
      "Omnibus:                     2507.247   Durbin-Watson:                   0.208\n",
      "Prob(Omnibus):                  0.000   Jarque-Bera (JB):             6010.551\n",
      "Skew:                           0.142   Prob(JB):                         0.00\n",
      "Kurtosis:                       4.302   Cond. No.                         7.40\n",
      "==============================================================================\n",
      "\n",
      "Warnings:\n",
      "[1] Standard Errors assume that the covariance matrix of the errors is correctly specified.\n"
     ]
    }
   ],
   "source": [
    "print(model[0][0], model[0][1])\n",
    "print(model[0][2].summary())"
   ]
  },
  {
   "cell_type": "code",
   "execution_count": 40,
   "metadata": {},
   "outputs": [
    {
     "name": "stdout",
     "output_type": "stream",
     "text": [
      "['NO2', 'SO2'] RSPM10\n",
      "                            OLS Regression Results                            \n",
      "==============================================================================\n",
      "Dep. Variable:                 RSPM10   R-squared:                       0.741\n",
      "Model:                            OLS   Adj. R-squared:                  0.741\n",
      "Method:                 Least Squares   F-statistic:                 1.164e+05\n",
      "Date:                Mon, 17 Dec 2018   Prob (F-statistic):               0.00\n",
      "Time:                        10:53:02   Log-Likelihood:            -4.5122e+05\n",
      "No. Observations:               81209   AIC:                         9.025e+05\n",
      "Df Residuals:                   81207   BIC:                         9.025e+05\n",
      "Df Model:                           2                                         \n",
      "Covariance Type:            nonrobust                                         \n",
      "==============================================================================\n",
      "                 coef    std err          t      P>|t|      [0.025      0.975]\n",
      "------------------------------------------------------------------------------\n",
      "NO2            2.7371      0.010    263.047      0.000       2.717       2.758\n",
      "SO2            1.3793      0.033     42.396      0.000       1.316       1.443\n",
      "==============================================================================\n",
      "Omnibus:                    10865.741   Durbin-Watson:                   0.391\n",
      "Prob(Omnibus):                  0.000   Jarque-Bera (JB):            25845.616\n",
      "Skew:                           0.782   Prob(JB):                         0.00\n",
      "Kurtosis:                       5.279   Cond. No.                         5.40\n",
      "==============================================================================\n",
      "\n",
      "Warnings:\n",
      "[1] Standard Errors assume that the covariance matrix of the errors is correctly specified.\n"
     ]
    }
   ],
   "source": [
    "print(model[1][0], model[1][1])\n",
    "print(model[1][2].summary())"
   ]
  },
  {
   "cell_type": "code",
   "execution_count": 41,
   "metadata": {},
   "outputs": [
    {
     "name": "stdout",
     "output_type": "stream",
     "text": [
      "['RSPM10', 'SO2'] NO2\n",
      "                            OLS Regression Results                            \n",
      "==============================================================================\n",
      "Dep. Variable:                    NO2   R-squared:                       0.795\n",
      "Model:                            OLS   Adj. R-squared:                  0.795\n",
      "Method:                 Least Squares   F-statistic:                 1.571e+05\n",
      "Date:                Mon, 17 Dec 2018   Prob (F-statistic):               0.00\n",
      "Time:                        10:53:03   Log-Likelihood:            -3.3793e+05\n",
      "No. Observations:               81209   AIC:                         6.759e+05\n",
      "Df Residuals:                   81207   BIC:                         6.759e+05\n",
      "Df Model:                           2                                         \n",
      "Covariance Type:            nonrobust                                         \n",
      "==============================================================================\n",
      "                 coef    std err          t      P>|t|      [0.025      0.975]\n",
      "------------------------------------------------------------------------------\n",
      "RSPM10         0.1681      0.001    263.047      0.000       0.167       0.169\n",
      "SO2            1.0970      0.007    152.684      0.000       1.083       1.111\n",
      "==============================================================================\n",
      "Omnibus:                    15905.302   Durbin-Watson:                   0.382\n",
      "Prob(Omnibus):                  0.000   Jarque-Bera (JB):            40494.585\n",
      "Skew:                           1.078   Prob(JB):                         0.00\n",
      "Kurtosis:                       5.706   Cond. No.                         16.3\n",
      "==============================================================================\n",
      "\n",
      "Warnings:\n",
      "[1] Standard Errors assume that the covariance matrix of the errors is correctly specified.\n"
     ]
    }
   ],
   "source": [
    "print(model[2][0], model[2][1])\n",
    "print(model[2][2].summary())"
   ]
  },
  {
   "cell_type": "markdown",
   "metadata": {},
   "source": [
    "$$\\text{By comparing the different R-squared values for each Multiple Linear Regression model, we can conclude that the best model is when SO}_2 \\\\ \\text{ and RSPM-10 are independent varaibles and NO}_2 \\text{is the dependent variable}$$"
   ]
  },
  {
   "cell_type": "code",
   "execution_count": 43,
   "metadata": {},
   "outputs": [
    {
     "data": {
      "image/png": "[encoded data removed]",
      "text/plain": [
       "<Figure size 432x288 with 1 Axes>"
      ]
     },
     "metadata": {},
     "output_type": "display_data"
    }
   ],
   "source": [
    "from sklearn.metrics import classification_report, confusion_matrix\n",
    "from sklearn.neighbors import KNeighborsClassifier\n",
    "\n",
    "X_train, X_test, y_train, y_test = train_test_split(df[['RSPM10', 'SO2', 'NO2']],\n",
    "                                                    df.City,\n",
    "                                                    test_size = 0.33,\n",
    "                                                    random_state = 42)\n",
    "err_rate = []\n",
    "\n",
    "for i in range(1, 32, 2):\n",
    "    knn = KNeighborsClassifier(n_neighbors=i)\n",
    "    knn.fit(X_train, y_train)\n",
    "    pred_i = knn.predict(X_test)\n",
    "    err_rate.append(np.mean(pred_i != y_test))\n",
    "\n",
    "Y = err_rate\n",
    "X = range(16)\n",
    "plt.plot(X, Y)\n",
    "plt.show()"
   ]
  },
  {
   "cell_type": "markdown",
   "metadata": {},
   "source": [
    "The above graph tells that error rate increases as k value increases"
   ]
  },
  {
   "cell_type": "markdown",
   "metadata": {},
   "source": [
    "# Cross Validation"
   ]
  },
  {
   "cell_type": "code",
   "execution_count": 44,
   "metadata": {},
   "outputs": [
    {
     "name": "stdout",
     "output_type": "stream",
     "text": [
      "The optimal number of neighbors is 1\n"
     ]
    },
    {
     "data": {
      "image/png": "[encoded data removed]",
      "text/plain": [
       "<Figure size 432x288 with 1 Axes>"
      ]
     },
     "metadata": {},
     "output_type": "display_data"
    }
   ],
   "source": [
    "l = list(range(1,50))\n",
    "neighbors = list(filter(lambda x: x % 2 != 0, l))\n",
    "cv_scores = []\n",
    "\n",
    "# perform 10-fold cross validation\n",
    "for k in neighbors:\n",
    "    knn = KNeighborsClassifier(n_neighbors=k)\n",
    "    scores = cross_val_score(knn, X_train, y_train, cv=10, scoring='accuracy')\n",
    "    cv_scores.append(scores.mean())\n",
    "\n",
    "\n",
    "# changing to misclassification error\n",
    "MSE = [1 - x for x in cv_scores]\n",
    "\n",
    "# determining best k\n",
    "optimal_k = neighbors[MSE.index(min(MSE))]\n",
    "print (\"The optimal number of neighbors is %d\" % optimal_k)\n",
    "\n",
    "# plot misclassification error vs k\n",
    "plt.plot(neighbors, MSE)\n",
    "plt.xlabel('Number of Neighbors K')\n",
    "plt.ylabel('Misclassification Error')\n",
    "plt.show()"
   ]
  },
  {
   "cell_type": "markdown",
   "metadata": {},
   "source": [
    "It can be seen that kNN model doesn't work as good as the Linear Regression Model as the optimal value for kNNN is just 1"
   ]
  }
 ],
 "metadata": {
  "kernelspec": {
   "display_name": "Python 3",
   "language": "python",
   "name": "python3"
  },
  "language_info": {
   "codemirror_mode": {
    "name": "ipython",
    "version": 3
   },
   "file_extension": ".py",
   "mimetype": "text/x-python",
   "name": "python",
   "nbconvert_exporter": "python",
   "pygments_lexer": "ipython3",
   "version": "3.7.0"
  }
 },
 "nbformat": 4,
 "nbformat_minor": 2
}
